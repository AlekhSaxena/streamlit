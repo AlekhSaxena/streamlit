{
 "cells": [
  {
   "cell_type": "code",
   "execution_count": 1,
   "id": "ab68cfde",
   "metadata": {},
   "outputs": [
    {
     "name": "stderr",
     "output_type": "stream",
     "text": [
      "/Users/alekhsaxena/anaconda3/lib/python3.10/site-packages/pandas/core/arrays/masked.py:60: UserWarning: Pandas requires version '1.3.6' or newer of 'bottleneck' (version '1.3.5' currently installed).\n",
      "  from pandas.core import (\n"
     ]
    }
   ],
   "source": [
    "from sentence_transformers import SentenceTransformer, util\n",
    "import pandas as pd\n",
    "import os"
   ]
  },
  {
   "cell_type": "code",
   "execution_count": 2,
   "id": "7d5023de",
   "metadata": {},
   "outputs": [
    {
     "name": "stderr",
     "output_type": "stream",
     "text": [
      "/Users/alekhsaxena/anaconda3/lib/python3.10/site-packages/torch/_utils.py:831: UserWarning: TypedStorage is deprecated. It will be removed in the future and UntypedStorage will be the only storage class. This should only matter to you if you are using storages directly.  To access UntypedStorage directly, use tensor.untyped_storage() instead of tensor.storage()\n",
      "  return self.fget.__get__(instance, owner)()\n"
     ]
    }
   ],
   "source": [
    "model = SentenceTransformer('all-MiniLM-L6-v2') "
   ]
  },
  {
   "cell_type": "code",
   "execution_count": 3,
   "id": "71edb9c4",
   "metadata": {},
   "outputs": [],
   "source": [
    "li=['Open the first script for me ',\n",
    "'I want to try the second script',\n",
    "'this is the first image',\n",
    "'how about 2nd one',\n",
    "'now open 1st email',\n",
    "'this is the survey',]"
   ]
  },
  {
   "cell_type": "code",
   "execution_count": 5,
   "id": "4261facc",
   "metadata": {},
   "outputs": [],
   "source": [
    "def store_sentences_and_embeddings(sentences):\n",
    "    \"\"\"\n",
    "    Converts a list of sentences into embeddings and stores them in a DataFrame.\n",
    "    \n",
    "    Parameters:\n",
    "    - sentences: List of sentences to embed.\n",
    "    \n",
    "    Returns:\n",
    "    - A pandas DataFrame with 'sentence' and 'embedding' columns.\n",
    "    \"\"\"\n",
    "    # Load the SentenceTransformer model\n",
    "    model = SentenceTransformer('all-MiniLM-L6-v2')  # You can use any SentenceTransformer model\n",
    "\n",
    "    # Compute embeddings for each sentence\n",
    "    embeddings = model.encode(sentences)\n",
    "\n",
    "    # Create a DataFrame to store sentences and embeddings\n",
    "    df = pd.DataFrame({\n",
    "        'sentence': sentences,\n",
    "        'embedding': list(embeddings)  # Convert numpy arrays to lists for storage\n",
    "    })\n",
    "\n",
    "    return df"
   ]
  },
  {
   "cell_type": "code",
   "execution_count": 6,
   "id": "2a8f6a83",
   "metadata": {},
   "outputs": [],
   "source": [
    "df = store_sentences_and_embeddings(li)"
   ]
  },
  {
   "cell_type": "code",
   "execution_count": 8,
   "id": "8751675f",
   "metadata": {},
   "outputs": [],
   "source": [
    "df.to_csv('emb.txt')"
   ]
  },
  {
   "cell_type": "code",
   "execution_count": null,
   "id": "440f80d7",
   "metadata": {},
   "outputs": [],
   "source": []
  }
 ],
 "metadata": {
  "kernelspec": {
   "display_name": "Python 3 (ipykernel)",
   "language": "python",
   "name": "python3"
  },
  "language_info": {
   "codemirror_mode": {
    "name": "ipython",
    "version": 3
   },
   "file_extension": ".py",
   "mimetype": "text/x-python",
   "name": "python",
   "nbconvert_exporter": "python",
   "pygments_lexer": "ipython3",
   "version": "3.10.13"
  }
 },
 "nbformat": 4,
 "nbformat_minor": 5
}
