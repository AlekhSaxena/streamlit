{
 "cells": [
  {
   "cell_type": "code",
   "execution_count": 7,
   "id": "a9d496df",
   "metadata": {},
   "outputs": [
    {
     "data": {
      "text/plain": [
       "True"
      ]
     },
     "execution_count": 7,
     "metadata": {},
     "output_type": "execute_result"
    }
   ],
   "source": [
    "import webbrowser\n",
    "webbrowser.open_new_tab('./Email/19.html')"
   ]
  },
  {
   "cell_type": "code",
   "execution_count": 26,
   "id": "3d8f2091",
   "metadata": {},
   "outputs": [
    {
     "data": {
      "text/plain": [
       "True"
      ]
     },
     "execution_count": 26,
     "metadata": {},
     "output_type": "execute_result"
    }
   ],
   "source": [
    "import webbrowser\n",
    "import os\n",
    "\n",
    "# Resolve the absolute path of the file\n",
    "file_path = os.path.abspath('./Images/1.html')\n",
    "\n",
    "# Format the file path as a URL\n",
    "file_url = f'file://{file_path}'\n",
    "\n",
    "# Open the file in a new browser tab\n",
    "webbrowser.open_new_tab(file_url)"
   ]
  },
  {
   "cell_type": "code",
   "execution_count": 25,
   "id": "5782b85d",
   "metadata": {},
   "outputs": [
    {
     "name": "stdout",
     "output_type": "stream",
     "text": [
      "HTML page saved at: ./Images/1.html\n"
     ]
    }
   ],
   "source": [
    "# Define the path to the JPEG file\n",
    "jpeg_path = \"./Images/1.jpeg\"  # Replace with your JPEG file path\n",
    "\n",
    "# Define the path for the HTML file\n",
    "html_path = \"./Images/1.html\"\n",
    "\n",
    "# Create the HTML content\n",
    "html_content = f\"\"\"\n",
    "<!DOCTYPE html>\n",
    "<html lang=\"en\">\n",
    "<head>\n",
    "    <meta charset=\"UTF-8\">\n",
    "    <meta name=\"viewport\" content=\"width=device-width, initial-scale=1.0\">\n",
    "    <title>JPEG Viewer</title>\n",
    "</head>\n",
    "<body>\n",
    "    <h1>View the JPEG Image</h1>\n",
    "    <img src=\"f'file://{jpeg_path}''\" alt=\"JPEG Image\" style=\"max-width: 100%; height: auto;\">\n",
    "</body>\n",
    "</html>\n",
    "\"\"\"\n",
    "\n",
    "# Write the HTML content to a file\n",
    "with open(html_path, \"w\") as html_file:\n",
    "    html_file.write(html_content)\n",
    "\n",
    "print(f\"HTML page saved at: {html_path}\")\n"
   ]
  },
  {
   "cell_type": "code",
   "execution_count": 23,
   "id": "fdd52641",
   "metadata": {},
   "outputs": [
    {
     "name": "stdout",
     "output_type": "stream",
     "text": [
      "total 168\r\n",
      "-rw-r--r--@  1 alekhsaxena  staff   4830 Nov 29 16:02 str.py\r\n",
      "-rw-r--r--   1 alekhsaxena  staff   5466 Nov 29 16:12 new.py\r\n",
      "drwxr-xr-x   5 alekhsaxena  staff    160 Nov 29 19:26 \u001b[34mImages\u001b[m\u001b[m\r\n",
      "-rw-r--r--   1 alekhsaxena  staff   3673 Nov 29 19:51 Untitled.ipynb\r\n",
      "-rw-r--r--@  1 alekhsaxena  staff  37939 Nov 29 19:55 mapping.csv\r\n",
      "-rw-r--r--@  1 alekhsaxena  staff   4974 Nov 29 21:00 new2.py\r\n",
      "-rw-r--r--@  1 alekhsaxena  staff   6325 Nov 29 21:16 new_3.py\r\n",
      "-rw-r--r--   1 alekhsaxena  staff    568 Nov 29 21:25 output.html\r\n",
      "drwxr-xr-x   5 alekhsaxena  staff    160 Nov 29 21:25 \u001b[34mEmail\u001b[m\u001b[m\r\n",
      "drwxr-xr-x   7 alekhsaxena  staff    224 Nov 29 21:30 \u001b[34mscripts\u001b[m\u001b[m\r\n",
      "drwxr-xr-x  15 alekhsaxena  staff    480 Nov 29 21:31 \u001b[34mSurveys\u001b[m\u001b[m\r\n",
      "-rw-r--r--   1 alekhsaxena  staff   3590 Nov 29 21:31 Untitled1.ipynb\r\n"
     ]
    }
   ],
   "source": [
    "!ls -ltr"
   ]
  },
  {
   "cell_type": "code",
   "execution_count": 21,
   "id": "710366c8",
   "metadata": {},
   "outputs": [],
   "source": [
    "import webbrowser\n",
    "import os\n",
    "\n",
    "# Path to your JPEG file\n",
    "jpeg_path = \"./Images/1.jpeg\"  # Replace with your actual file path\n",
    "\n",
    "# Check if the file exists\n",
    "if os.path.exists(jpeg_path):\n",
    "    # Convert to an absolute file URL\n",
    "    file_url = f\"file://{os.path.abspath(jpeg_path)}\"\n",
    "    \n",
    "    # Open the file in the default web browser\n",
    "    webbrowser.open(file_url)\n",
    "else:\n",
    "    print(f\"The file {jpeg_path} does not exist.\")"
   ]
  },
  {
   "cell_type": "code",
   "execution_count": 22,
   "id": "6ae7826f",
   "metadata": {},
   "outputs": [
    {
     "ename": "SyntaxError",
     "evalue": "invalid decimal literal (476796669.py, line 1)",
     "output_type": "error",
     "traceback": [
      "\u001b[0;36m  Cell \u001b[0;32mIn[22], line 1\u001b[0;36m\u001b[0m\n\u001b[0;31m    ./scripts/1.docs\u001b[0m\n\u001b[0m               ^\u001b[0m\n\u001b[0;31mSyntaxError\u001b[0m\u001b[0;31m:\u001b[0m invalid decimal literal\n"
     ]
    }
   ],
   "source": [
    "./scripts/1.docs\n",
    "./scripts/2.docs\n",
    "./Images/1.jpeg\n",
    "./Images/2.jpeg\n",
    "./Email/1.docs\n",
    "./Surveys/1.docs"
   ]
  },
  {
   "cell_type": "code",
   "execution_count": 17,
   "id": "ac8d4931",
   "metadata": {},
   "outputs": [],
   "source": [
    "from docx import Document\n",
    "\n",
    "# Load the Word document\n",
    "doc = Document(\"./Surveys/1.docx\")\n",
    "\n",
    "# Convert to HTML\n",
    "html_content = \"<html><body>\"\n",
    "for para in doc.paragraphs:\n",
    "    html_content += f\"<p>{para.text}</p>\"\n",
    "html_content += \"</body></html>\"\n",
    "\n",
    "# Save to an HTML file\n",
    "with open(\"./Surveys/1.html\", \"w\") as file:\n",
    "    file.write(html_content)\n"
   ]
  },
  {
   "cell_type": "code",
   "execution_count": 2,
   "id": "418c249b",
   "metadata": {},
   "outputs": [
    {
     "name": "stdout",
     "output_type": "stream",
     "text": [
      "Collecting python-docx\n",
      "  Downloading python_docx-1.1.2-py3-none-any.whl (244 kB)\n",
      "\u001b[2K     \u001b[90m━━━━━━━━━━━━━━━━━━━━━━━━━━━━━━━━━━━━━\u001b[0m \u001b[32m244.3/244.3 kB\u001b[0m \u001b[31m599.6 kB/s\u001b[0m eta \u001b[36m0:00:00\u001b[0ma \u001b[36m0:00:01\u001b[0m\n",
      "\u001b[?25hRequirement already satisfied: lxml>=3.1.0 in /Users/alekhsaxena/anaconda3/lib/python3.10/site-packages (from python-docx) (4.9.1)\n",
      "Requirement already satisfied: typing-extensions>=4.9.0 in /Users/alekhsaxena/anaconda3/lib/python3.10/site-packages (from python-docx) (4.12.2)\n",
      "Installing collected packages: python-docx\n",
      "Successfully installed python-docx-1.1.2\n"
     ]
    }
   ],
   "source": [
    "!pip install python-docx\n",
    "\n"
   ]
  },
  {
   "cell_type": "code",
   "execution_count": null,
   "id": "6df5c9d7",
   "metadata": {},
   "outputs": [],
   "source": []
  }
 ],
 "metadata": {
  "kernelspec": {
   "display_name": "Python 3 (ipykernel)",
   "language": "python",
   "name": "python3"
  },
  "language_info": {
   "codemirror_mode": {
    "name": "ipython",
    "version": 3
   },
   "file_extension": ".py",
   "mimetype": "text/x-python",
   "name": "python",
   "nbconvert_exporter": "python",
   "pygments_lexer": "ipython3",
   "version": "3.10.13"
  }
 },
 "nbformat": 4,
 "nbformat_minor": 5
}
