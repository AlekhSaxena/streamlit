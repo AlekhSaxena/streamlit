{
 "cells": [
  {
   "cell_type": "code",
   "execution_count": 1,
   "id": "0d380576",
   "metadata": {},
   "outputs": [
    {
     "name": "stderr",
     "output_type": "stream",
     "text": [
      "/Users/alekhsaxena/anaconda3/lib/python3.10/site-packages/pandas/core/arrays/masked.py:60: UserWarning: Pandas requires version '1.3.6' or newer of 'bottleneck' (version '1.3.5' currently installed).\n",
      "  from pandas.core import (\n"
     ]
    }
   ],
   "source": [
    "from sentence_transformers import SentenceTransformer, util\n",
    "import pandas as pd\n",
    "import os"
   ]
  },
  {
   "cell_type": "code",
   "execution_count": 2,
   "id": "770ec02d",
   "metadata": {},
   "outputs": [
    {
     "name": "stderr",
     "output_type": "stream",
     "text": [
      "/Users/alekhsaxena/anaconda3/lib/python3.10/site-packages/torch/_utils.py:831: UserWarning: TypedStorage is deprecated. It will be removed in the future and UntypedStorage will be the only storage class. This should only matter to you if you are using storages directly.  To access UntypedStorage directly, use tensor.untyped_storage() instead of tensor.storage()\n",
      "  return self.fget.__get__(instance, owner)()\n"
     ]
    }
   ],
   "source": [
    "model = SentenceTransformer('all-MiniLM-L6-v2') "
   ]
  },
  {
   "cell_type": "code",
   "execution_count": 3,
   "id": "43f3b333",
   "metadata": {},
   "outputs": [],
   "source": [
    "li=['Open the first script for me ',\n",
    "'I want to try the second script',\n",
    "'this is the first image',\n",
    "'how about 2nd one',\n",
    "'now open 1st email',\n",
    "'this is the survey',]"
   ]
  },
  {
   "cell_type": "code",
   "execution_count": 4,
   "id": "f1fc1ddc",
   "metadata": {},
   "outputs": [],
   "source": [
    "def store_sentences_and_embeddings(sentences):\n",
    "    \"\"\"\n",
    "    Converts a list of sentences into embeddings and stores them in a DataFrame.\n",
    "    \n",
    "    Parameters:\n",
    "    - sentences: List of sentences to embed.\n",
    "    \n",
    "    Returns:\n",
    "    - A pandas DataFrame with 'sentence' and 'embedding' columns.\n",
    "    \"\"\"\n",
    "    # Load the SentenceTransformer model\n",
    "    model = SentenceTransformer('all-MiniLM-L6-v2')  # You can use any SentenceTransformer model\n",
    "\n",
    "    # Compute embeddings for each sentence\n",
    "    embeddings = model.encode(sentences)\n",
    "\n",
    "    # Create a DataFrame to store sentences and embeddings\n",
    "    df = pd.DataFrame({\n",
    "        'sentence': sentences,\n",
    "        'embedding': list(embeddings)  # Convert numpy arrays to lists for storage\n",
    "    })\n",
    "\n",
    "    return df"
   ]
  },
  {
   "cell_type": "code",
   "execution_count": 9,
   "id": "cd71eab2",
   "metadata": {},
   "outputs": [],
   "source": [
    "import pandas as pd\n",
    "from sentence_transformers import SentenceTransformer\n",
    "\n",
    "def store_sentences_and_embeddings(sentences):\n",
    "    \"\"\"\n",
    "    Converts a list of sentences into embeddings and stores them in a DataFrame.\n",
    "    \n",
    "    Parameters:\n",
    "    - sentences: List of sentences to embed.\n",
    "    \n",
    "    Returns:\n",
    "    - A pandas DataFrame with 'sentence' and 'embedding' columns.\n",
    "    \"\"\"\n",
    "    # Load the SentenceTransformer model\n",
    "    model = SentenceTransformer('all-MiniLM-L6-v2')  # Use your desired model\n",
    "\n",
    "    # Compute embeddings for each sentence\n",
    "    embeddings = model.encode(sentences)\n",
    "\n",
    "    # Create a DataFrame to store sentences and embeddings\n",
    "    df = pd.DataFrame({\n",
    "        'sentence': sentences,\n",
    "        'embedding': list(embeddings)  # Convert numpy arrays to lists for storage\n",
    "    })\n",
    "\n",
    "    # Save the DataFrame to a CSV file\n",
    "    df['embedding'] = df['embedding'].apply(lambda x: ','.join(map(str, x)))  # Serialize embeddings\n",
    "    df.to_csv('sentences_and_embeddings.csv', index=False)\n",
    "    print(\"Sentences and embeddings saved to sentences_and_embeddings.csv\")\n",
    "\n",
    "    return df\n"
   ]
  },
  {
   "cell_type": "code",
   "execution_count": 12,
   "id": "0b9d4b28",
   "metadata": {},
   "outputs": [
    {
     "name": "stdout",
     "output_type": "stream",
     "text": [
      "/Users/alekhsaxena/Desktop/yogita/Surveys\r\n"
     ]
    },
    {
     "name": "stderr",
     "output_type": "stream",
     "text": [
      "huggingface/tokenizers: The current process just got forked, after parallelism has already been used. Disabling parallelism to avoid deadlocks...\n",
      "To disable this warning, you can either:\n",
      "\t- Avoid using `tokenizers` before the fork if possible\n",
      "\t- Explicitly set the environment variable TOKENIZERS_PARALLELISM=(true | false)\n"
     ]
    }
   ],
   "source": [
    "!pwd"
   ]
  },
  {
   "cell_type": "code",
   "execution_count": 10,
   "id": "56826f7d",
   "metadata": {},
   "outputs": [
    {
     "name": "stdout",
     "output_type": "stream",
     "text": [
      "Sentences and embeddings saved to sentences_and_embeddings.csv\n"
     ]
    }
   ],
   "source": [
    "df = store_sentences_and_embeddings(li)"
   ]
  },
  {
   "cell_type": "code",
   "execution_count": 8,
   "id": "3f451243",
   "metadata": {},
   "outputs": [],
   "source": [
    "df.to_csv('output_file.csv', sep='|', index=False)"
   ]
  },
  {
   "cell_type": "code",
   "execution_count": 6,
   "id": "e55e3b46",
   "metadata": {},
   "outputs": [],
   "source": [
    "df.to_csv('emb.')"
   ]
  },
  {
   "cell_type": "code",
   "execution_count": 7,
   "id": "0ceee24c",
   "metadata": {},
   "outputs": [
    {
     "data": {
      "text/html": [
       "<div>\n",
       "<style scoped>\n",
       "    .dataframe tbody tr th:only-of-type {\n",
       "        vertical-align: middle;\n",
       "    }\n",
       "\n",
       "    .dataframe tbody tr th {\n",
       "        vertical-align: top;\n",
       "    }\n",
       "\n",
       "    .dataframe thead th {\n",
       "        text-align: right;\n",
       "    }\n",
       "</style>\n",
       "<table border=\"1\" class=\"dataframe\">\n",
       "  <thead>\n",
       "    <tr style=\"text-align: right;\">\n",
       "      <th></th>\n",
       "      <th>sentence</th>\n",
       "      <th>embedding</th>\n",
       "    </tr>\n",
       "  </thead>\n",
       "  <tbody>\n",
       "    <tr>\n",
       "      <th>0</th>\n",
       "      <td>Open the first script for me</td>\n",
       "      <td>[0.00021300679, -0.07252658, -0.055046022, 0.0...</td>\n",
       "    </tr>\n",
       "    <tr>\n",
       "      <th>1</th>\n",
       "      <td>I want to try the second script</td>\n",
       "      <td>[-0.025012745, -0.013739289, -0.055524103, 0.0...</td>\n",
       "    </tr>\n",
       "    <tr>\n",
       "      <th>2</th>\n",
       "      <td>this is the first image</td>\n",
       "      <td>[-0.004827879, 0.057276927, 0.009149964, 0.018...</td>\n",
       "    </tr>\n",
       "    <tr>\n",
       "      <th>3</th>\n",
       "      <td>how about 2nd one</td>\n",
       "      <td>[-0.02784145, -0.0753391, -0.032388642, -0.007...</td>\n",
       "    </tr>\n",
       "    <tr>\n",
       "      <th>4</th>\n",
       "      <td>now open 1st email</td>\n",
       "      <td>[-0.013305319, -0.088569544, 0.054797567, 0.05...</td>\n",
       "    </tr>\n",
       "    <tr>\n",
       "      <th>5</th>\n",
       "      <td>this is the survey</td>\n",
       "      <td>[0.03511055, 0.019196035, -0.0003906358, 0.063...</td>\n",
       "    </tr>\n",
       "  </tbody>\n",
       "</table>\n",
       "</div>"
      ],
      "text/plain": [
       "                          sentence  \\\n",
       "0    Open the first script for me    \n",
       "1  I want to try the second script   \n",
       "2          this is the first image   \n",
       "3                how about 2nd one   \n",
       "4               now open 1st email   \n",
       "5               this is the survey   \n",
       "\n",
       "                                           embedding  \n",
       "0  [0.00021300679, -0.07252658, -0.055046022, 0.0...  \n",
       "1  [-0.025012745, -0.013739289, -0.055524103, 0.0...  \n",
       "2  [-0.004827879, 0.057276927, 0.009149964, 0.018...  \n",
       "3  [-0.02784145, -0.0753391, -0.032388642, -0.007...  \n",
       "4  [-0.013305319, -0.088569544, 0.054797567, 0.05...  \n",
       "5  [0.03511055, 0.019196035, -0.0003906358, 0.063...  "
      ]
     },
     "execution_count": 7,
     "metadata": {},
     "output_type": "execute_result"
    }
   ],
   "source": [
    "df"
   ]
  },
  {
   "cell_type": "code",
   "execution_count": 8,
   "id": "8b7bcf66",
   "metadata": {},
   "outputs": [
    {
     "name": "stdout",
     "output_type": "stream",
     "text": [
      "/Users/alekhsaxena/Desktop/yogita/Surveys\r\n"
     ]
    },
    {
     "name": "stderr",
     "output_type": "stream",
     "text": [
      "huggingface/tokenizers: The current process just got forked, after parallelism has already been used. Disabling parallelism to avoid deadlocks...\n",
      "To disable this warning, you can either:\n",
      "\t- Avoid using `tokenizers` before the fork if possible\n",
      "\t- Explicitly set the environment variable TOKENIZERS_PARALLELISM=(true | false)\n"
     ]
    }
   ],
   "source": [
    "!pwd"
   ]
  },
  {
   "cell_type": "code",
   "execution_count": 10,
   "id": "f0c25342",
   "metadata": {},
   "outputs": [],
   "source": [
    "x=pd.read_excel('/Users/alekhsaxena/Desktop/yogita/mapping.xlsx')"
   ]
  },
  {
   "cell_type": "code",
   "execution_count": 13,
   "id": "c6174e74",
   "metadata": {},
   "outputs": [],
   "source": [
    "df=x.merge(df , left_on ='Sentence',right_on='sentence')"
   ]
  },
  {
   "cell_type": "code",
   "execution_count": 15,
   "id": "ddc79336",
   "metadata": {},
   "outputs": [
    {
     "data": {
      "text/plain": [
       "Index(['Type', 'Sentence', 'location', 'embedding_x', 'sentence',\n",
       "       'embedding_y'],\n",
       "      dtype='object')"
      ]
     },
     "execution_count": 15,
     "metadata": {},
     "output_type": "execute_result"
    }
   ],
   "source": [
    "df.columns"
   ]
  },
  {
   "cell_type": "code",
   "execution_count": 17,
   "id": "e3a5e116",
   "metadata": {},
   "outputs": [],
   "source": [
    "df=df[['Type', 'Sentence', 'location', 'sentence',\n",
    "       'embedding_y']]"
   ]
  },
  {
   "cell_type": "code",
   "execution_count": 2,
   "id": "302d86c1",
   "metadata": {},
   "outputs": [
    {
     "name": "stderr",
     "output_type": "stream",
     "text": [
      "/Users/alekhsaxena/anaconda3/lib/python3.10/site-packages/pandas/core/arrays/masked.py:60: UserWarning: Pandas requires version '1.3.6' or newer of 'bottleneck' (version '1.3.5' currently installed).\n",
      "  from pandas.core import (\n"
     ]
    },
    {
     "data": {
      "text/html": [
       "<div>\n",
       "<style scoped>\n",
       "    .dataframe tbody tr th:only-of-type {\n",
       "        vertical-align: middle;\n",
       "    }\n",
       "\n",
       "    .dataframe tbody tr th {\n",
       "        vertical-align: top;\n",
       "    }\n",
       "\n",
       "    .dataframe thead th {\n",
       "        text-align: right;\n",
       "    }\n",
       "</style>\n",
       "<table border=\"1\" class=\"dataframe\">\n",
       "  <thead>\n",
       "    <tr style=\"text-align: right;\">\n",
       "      <th></th>\n",
       "      <th>Unnamed: 0</th>\n",
       "      <th>Type</th>\n",
       "      <th>Sentence</th>\n",
       "      <th>location</th>\n",
       "      <th>sentence</th>\n",
       "      <th>embedding</th>\n",
       "    </tr>\n",
       "  </thead>\n",
       "  <tbody>\n",
       "    <tr>\n",
       "      <th>0</th>\n",
       "      <td>0</td>\n",
       "      <td>scripts</td>\n",
       "      <td>Open the first script for me</td>\n",
       "      <td>./scripts/1.docs</td>\n",
       "      <td>Open the first script for me</td>\n",
       "      <td>[ 2.13006788e-04 -7.25265816e-02 -5.50460219e-...</td>\n",
       "    </tr>\n",
       "    <tr>\n",
       "      <th>1</th>\n",
       "      <td>1</td>\n",
       "      <td>scripts</td>\n",
       "      <td>I want to try the second script</td>\n",
       "      <td>./scripts/2.docs</td>\n",
       "      <td>I want to try the second script</td>\n",
       "      <td>[-2.50127446e-02 -1.37392888e-02 -5.55241033e-...</td>\n",
       "    </tr>\n",
       "    <tr>\n",
       "      <th>2</th>\n",
       "      <td>2</td>\n",
       "      <td>images</td>\n",
       "      <td>this is the first image</td>\n",
       "      <td>./Images/1.jpeg</td>\n",
       "      <td>this is the first image</td>\n",
       "      <td>[-4.82787890e-03  5.72769269e-02  9.14996397e-...</td>\n",
       "    </tr>\n",
       "    <tr>\n",
       "      <th>3</th>\n",
       "      <td>3</td>\n",
       "      <td>images</td>\n",
       "      <td>how about 2nd one</td>\n",
       "      <td>./Images/2.jpeg</td>\n",
       "      <td>how about 2nd one</td>\n",
       "      <td>[-2.78414506e-02 -7.53391013e-02 -3.23886424e-...</td>\n",
       "    </tr>\n",
       "    <tr>\n",
       "      <th>4</th>\n",
       "      <td>4</td>\n",
       "      <td>email</td>\n",
       "      <td>now open 1st email</td>\n",
       "      <td>./Email/1.docs</td>\n",
       "      <td>now open 1st email</td>\n",
       "      <td>[-1.33053185e-02 -8.85695443e-02  5.47975674e-...</td>\n",
       "    </tr>\n",
       "    <tr>\n",
       "      <th>5</th>\n",
       "      <td>5</td>\n",
       "      <td>surveys</td>\n",
       "      <td>this is the survey</td>\n",
       "      <td>./Surveys/1.docs</td>\n",
       "      <td>this is the survey</td>\n",
       "      <td>[ 3.51105481e-02  1.91960353e-02 -3.90635803e-...</td>\n",
       "    </tr>\n",
       "  </tbody>\n",
       "</table>\n",
       "</div>"
      ],
      "text/plain": [
       "   Unnamed: 0     Type                         Sentence          location  \\\n",
       "0           0  scripts    Open the first script for me   ./scripts/1.docs   \n",
       "1           1  scripts  I want to try the second script  ./scripts/2.docs   \n",
       "2           2   images          this is the first image   ./Images/1.jpeg   \n",
       "3           3   images                how about 2nd one   ./Images/2.jpeg   \n",
       "4           4    email               now open 1st email    ./Email/1.docs   \n",
       "5           5  surveys               this is the survey  ./Surveys/1.docs   \n",
       "\n",
       "                          sentence  \\\n",
       "0    Open the first script for me    \n",
       "1  I want to try the second script   \n",
       "2          this is the first image   \n",
       "3                how about 2nd one   \n",
       "4               now open 1st email   \n",
       "5               this is the survey   \n",
       "\n",
       "                                           embedding  \n",
       "0  [ 2.13006788e-04 -7.25265816e-02 -5.50460219e-...  \n",
       "1  [-2.50127446e-02 -1.37392888e-02 -5.55241033e-...  \n",
       "2  [-4.82787890e-03  5.72769269e-02  9.14996397e-...  \n",
       "3  [-2.78414506e-02 -7.53391013e-02 -3.23886424e-...  \n",
       "4  [-1.33053185e-02 -8.85695443e-02  5.47975674e-...  \n",
       "5  [ 3.51105481e-02  1.91960353e-02 -3.90635803e-...  "
      ]
     },
     "execution_count": 2,
     "metadata": {},
     "output_type": "execute_result"
    }
   ],
   "source": [
    "import pandas as pd\n",
    "pd.read_csv('mapping.csv')"
   ]
  },
  {
   "cell_type": "code",
   "execution_count": null,
   "id": "66044691",
   "metadata": {},
   "outputs": [],
   "source": []
  }
 ],
 "metadata": {
  "kernelspec": {
   "display_name": "Python 3 (ipykernel)",
   "language": "python",
   "name": "python3"
  },
  "language_info": {
   "codemirror_mode": {
    "name": "ipython",
    "version": 3
   },
   "file_extension": ".py",
   "mimetype": "text/x-python",
   "name": "python",
   "nbconvert_exporter": "python",
   "pygments_lexer": "ipython3",
   "version": "3.10.13"
  }
 },
 "nbformat": 4,
 "nbformat_minor": 5
}
