{
 "cells": [
  {
   "cell_type": "code",
   "execution_count": 1,
   "id": "c0e43e0e",
   "metadata": {},
   "outputs": [
    {
     "name": "stderr",
     "output_type": "stream",
     "text": [
      "/Users/alekhsaxena/anaconda3/lib/python3.10/site-packages/pandas/core/arrays/masked.py:60: UserWarning: Pandas requires version '1.3.6' or newer of 'bottleneck' (version '1.3.5' currently installed).\n",
      "  from pandas.core import (\n"
     ]
    }
   ],
   "source": [
    "import pandas as pd"
   ]
  },
  {
   "cell_type": "code",
   "execution_count": 2,
   "id": "4176e175",
   "metadata": {},
   "outputs": [
    {
     "name": "stdout",
     "output_type": "stream",
     "text": [
      "/Users/alekhsaxena/Desktop/yogita/Surveys\r\n"
     ]
    }
   ],
   "source": [
    "!pwd"
   ]
  },
  {
   "cell_type": "code",
   "execution_count": 3,
   "id": "91bb4f7a",
   "metadata": {},
   "outputs": [],
   "source": [
    "mapp=pd.read_csv('mapping.csv')"
   ]
  },
  {
   "cell_type": "code",
   "execution_count": 5,
   "id": "602d765a",
   "metadata": {},
   "outputs": [
    {
     "data": {
      "text/plain": [
       "Index(['Unnamed: 0', 'Type', 'Sentence', 'location', 'sentence'], dtype='object')"
      ]
     },
     "execution_count": 5,
     "metadata": {},
     "output_type": "execute_result"
    }
   ],
   "source": [
    "mapp.columns"
   ]
  },
  {
   "cell_type": "code",
   "execution_count": 6,
   "id": "ca73d86e",
   "metadata": {},
   "outputs": [],
   "source": [
    "import pandas as pd\n",
    "from sentence_transformers import SentenceTransformer\n",
    "\n",
    "def store_sentences_and_embeddings():\n",
    "    \"\"\"\n",
    "    Converts a list of sentences into embeddings and stores them in a DataFrame.\n",
    "    \n",
    "    Parameters:\n",
    "    - sentences: List of sentences to embed.\n",
    "    \n",
    "    Returns:\n",
    "    - A pandas DataFrame with 'sentence' and 'embedding' columns.\n",
    "    \"\"\"\n",
    "    # Load the SentenceTransformer model\n",
    "    mapp=pd.read_csv('mapping.csv')\n",
    "    \n",
    "    model = SentenceTransformer('all-MiniLM-L6-v2')  # Use your desired model\n",
    "    sentences=mapp['sentence'].to_list()\n",
    "\n",
    "    # Compute embeddings for each sentence\n",
    "    embeddings = model.encode(sentences)\n",
    "\n",
    "    # Create a DataFrame to store sentences and embeddings\n",
    "    df = pd.DataFrame({\n",
    "        'Type': mapp['Type'].to_list(),\n",
    "        'sentence': sentences,\n",
    "        'location':mapp['location'].to_list(),\n",
    "        'embedding': list(embeddings)  # Convert numpy arrays to lists for storage\n",
    "    })\n",
    "\n",
    "    # Save the DataFrame to a CSV file\n",
    "    df['embedding'] = df['embedding'].apply(lambda x: ','.join(map(str, x)))  # Serialize embeddings\n",
    "    df.to_csv('sentences_and_embeddings.csv', index=False)\n",
    "    print(\"Sentences and embeddings saved to sentences_and_embeddings.csv\")\n",
    "\n",
    "    return df"
   ]
  },
  {
   "cell_type": "code",
   "execution_count": 7,
   "id": "6818619a",
   "metadata": {},
   "outputs": [
    {
     "name": "stderr",
     "output_type": "stream",
     "text": [
      "/Users/alekhsaxena/anaconda3/lib/python3.10/site-packages/torch/_utils.py:831: UserWarning: TypedStorage is deprecated. It will be removed in the future and UntypedStorage will be the only storage class. This should only matter to you if you are using storages directly.  To access UntypedStorage directly, use tensor.untyped_storage() instead of tensor.storage()\n",
      "  return self.fget.__get__(instance, owner)()\n"
     ]
    },
    {
     "name": "stdout",
     "output_type": "stream",
     "text": [
      "Sentences and embeddings saved to sentences_and_embeddings.csv\n"
     ]
    },
    {
     "data": {
      "text/html": [
       "<div>\n",
       "<style scoped>\n",
       "    .dataframe tbody tr th:only-of-type {\n",
       "        vertical-align: middle;\n",
       "    }\n",
       "\n",
       "    .dataframe tbody tr th {\n",
       "        vertical-align: top;\n",
       "    }\n",
       "\n",
       "    .dataframe thead th {\n",
       "        text-align: right;\n",
       "    }\n",
       "</style>\n",
       "<table border=\"1\" class=\"dataframe\">\n",
       "  <thead>\n",
       "    <tr style=\"text-align: right;\">\n",
       "      <th></th>\n",
       "      <th>Type</th>\n",
       "      <th>sentence</th>\n",
       "      <th>location</th>\n",
       "      <th>embedding</th>\n",
       "    </tr>\n",
       "  </thead>\n",
       "  <tbody>\n",
       "    <tr>\n",
       "      <th>0</th>\n",
       "      <td>scripts</td>\n",
       "      <td>Open the first script for me</td>\n",
       "      <td>./scripts/1.html</td>\n",
       "      <td>0.00021300679,-0.07252658,-0.055046022,0.00885...</td>\n",
       "    </tr>\n",
       "    <tr>\n",
       "      <th>1</th>\n",
       "      <td>scripts</td>\n",
       "      <td>I want to try the second script</td>\n",
       "      <td>./scripts/2.html</td>\n",
       "      <td>-0.025012745,-0.013739289,-0.055524103,0.00611...</td>\n",
       "    </tr>\n",
       "    <tr>\n",
       "      <th>2</th>\n",
       "      <td>images</td>\n",
       "      <td>this is the first image</td>\n",
       "      <td>./Images/1.html</td>\n",
       "      <td>-0.004827879,0.057276927,0.009149964,0.0182668...</td>\n",
       "    </tr>\n",
       "    <tr>\n",
       "      <th>3</th>\n",
       "      <td>images</td>\n",
       "      <td>how about 2nd one</td>\n",
       "      <td>./Images/2.html</td>\n",
       "      <td>-0.02784145,-0.0753391,-0.032388642,-0.0078489...</td>\n",
       "    </tr>\n",
       "    <tr>\n",
       "      <th>4</th>\n",
       "      <td>email</td>\n",
       "      <td>now open 1st email</td>\n",
       "      <td>./Email/1.html</td>\n",
       "      <td>-0.013305319,-0.088569544,0.054797567,0.053952...</td>\n",
       "    </tr>\n",
       "    <tr>\n",
       "      <th>5</th>\n",
       "      <td>surveys</td>\n",
       "      <td>this is the survey</td>\n",
       "      <td>./Surveys/1.html</td>\n",
       "      <td>0.03511055,0.019196035,-0.0003906358,0.0636106...</td>\n",
       "    </tr>\n",
       "  </tbody>\n",
       "</table>\n",
       "</div>"
      ],
      "text/plain": [
       "      Type                         sentence          location  \\\n",
       "0  scripts    Open the first script for me   ./scripts/1.html   \n",
       "1  scripts  I want to try the second script  ./scripts/2.html   \n",
       "2   images          this is the first image   ./Images/1.html   \n",
       "3   images                how about 2nd one   ./Images/2.html   \n",
       "4    email               now open 1st email    ./Email/1.html   \n",
       "5  surveys               this is the survey  ./Surveys/1.html   \n",
       "\n",
       "                                           embedding  \n",
       "0  0.00021300679,-0.07252658,-0.055046022,0.00885...  \n",
       "1  -0.025012745,-0.013739289,-0.055524103,0.00611...  \n",
       "2  -0.004827879,0.057276927,0.009149964,0.0182668...  \n",
       "3  -0.02784145,-0.0753391,-0.032388642,-0.0078489...  \n",
       "4  -0.013305319,-0.088569544,0.054797567,0.053952...  \n",
       "5  0.03511055,0.019196035,-0.0003906358,0.0636106...  "
      ]
     },
     "execution_count": 7,
     "metadata": {},
     "output_type": "execute_result"
    }
   ],
   "source": [
    "store_sentences_and_embeddings()"
   ]
  },
  {
   "cell_type": "code",
   "execution_count": null,
   "id": "76261488",
   "metadata": {},
   "outputs": [],
   "source": []
  }
 ],
 "metadata": {
  "kernelspec": {
   "display_name": "Python 3 (ipykernel)",
   "language": "python",
   "name": "python3"
  },
  "language_info": {
   "codemirror_mode": {
    "name": "ipython",
    "version": 3
   },
   "file_extension": ".py",
   "mimetype": "text/x-python",
   "name": "python",
   "nbconvert_exporter": "python",
   "pygments_lexer": "ipython3",
   "version": "3.10.13"
  }
 },
 "nbformat": 4,
 "nbformat_minor": 5
}
